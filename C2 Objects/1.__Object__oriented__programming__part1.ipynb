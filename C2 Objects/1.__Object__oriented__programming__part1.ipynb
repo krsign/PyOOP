{
 "cells": [
  {
   "cell_type": "code",
   "execution_count": null,
   "metadata": {},
   "outputs": [],
   "source": [
    " User:\n",
    "        username\n",
    "        email\n",
    "        password\n",
    "        \n",
    "        phonenumber\n",
    "        country\n",
    "        linkedin\n",
    "        \n",
    "        signup\n",
    "        login\n",
    "        \n",
    "        change_password\n",
    "        update_email\n",
    "        "
   ]
  },
  {
   "cell_type": "code",
   "execution_count": null,
   "metadata": {},
   "outputs": [],
   "source": [
    "instance varible : every object will have its own copy of variable"
   ]
  },
  {
   "cell_type": "code",
   "execution_count": 48,
   "metadata": {},
   "outputs": [
    {
     "name": "stdout",
     "output_type": "stream",
     "text": [
      "<__main__.User object at 0x10ef23810>\n",
      "<__main__.User object at 0x10ef23b10>\n",
      "<__main__.User object at 0x10ef23f90>\n",
      "<__main__.User object at 0x10ef23790>\n",
      "<__main__.User object at 0x10ef23210>\n"
     ]
    }
   ],
   "source": [
    "class User:\n",
    "    def __init__(self, username, email, password):\n",
    "        # defining variable for particular object\n",
    "        # self is just standard convention you can write anything\n",
    "        self.user_name = username\n",
    "        self.email = email\n",
    "        self.password = password\n",
    "        self.is_active = True\n",
    "        \n",
    "    def add_contact(self, number):\n",
    "        self.number = number\n",
    "    \n",
    "    def login(self, username, password):\n",
    "        if self.user_name == username and self.password == password:\n",
    "            return True\n",
    "        else:\n",
    "            return False\n",
    "        \n",
    "    def change_active_status(self, status):\n",
    "        self.is_active = status\n",
    "        return self.is_active\n",
    "        \n",
    "    def get_details(self):\n",
    "        # return the value in tuple\n",
    "        return self.user_name, self.email\n",
    "    \n",
    "    \n",
    "        \n",
    "# User(user1, 'abc', 'abc@xyz.com', 'abc@123')\n",
    "user1 = User('abc', 'abc@xyz.com', 'abc@123')\n",
    "print(user1)  \n",
    "\n",
    "user2 = User('pqr', 'pqr@xyz.com', 'pqr@123')\n",
    "print(user2)\n",
    "\n",
    "user3 = User('rst', 'rst@xyz.com', 'rst@123')\n",
    "print(user3)\n",
    "\n",
    "user4 = User('uvx', 'uvx@xyz.com', 'uvx@123')\n",
    "print(user4)\n",
    "\n",
    "user5 = User('mno', 'mno@xyz.com', 'mno@123')\n",
    "print(user5)\n",
    "\n"
   ]
  },
  {
   "cell_type": "code",
   "execution_count": 44,
   "metadata": {},
   "outputs": [
    {
     "data": {
      "text/plain": [
       "False"
      ]
     },
     "execution_count": 44,
     "metadata": {},
     "output_type": "execute_result"
    }
   ],
   "source": [
    "# changing user2 to False\n",
    "\n",
    "user2.change_active_status(False)"
   ]
  },
  {
   "cell_type": "code",
   "execution_count": 47,
   "metadata": {},
   "outputs": [
    {
     "name": "stdout",
     "output_type": "stream",
     "text": [
      "('abc', 'abc@xyz.com')\n",
      "('pqr', 'pqr@xyz.com')\n",
      "('rst', 'rst@xyz.com')\n",
      "('uvx', 'uvx@xyz.com')\n",
      "('mno', 'mno@xyz.com')\n"
     ]
    }
   ],
   "source": [
    "users = [user1, user2 , user3, user4, user5]\n",
    "for user in users:\n",
    "    if user.is_active:\n",
    "        print(user.get_details())"
   ]
  },
  {
   "cell_type": "code",
   "execution_count": 18,
   "metadata": {},
   "outputs": [
    {
     "name": "stdout",
     "output_type": "stream",
     "text": [
      "('abc', 'abc@xyz.com', '9102934736')\n"
     ]
    }
   ],
   "source": [
    "# User.add_contact(user1,'9102934736' )\n",
    "user1.add_contact('9102934736')\n",
    "\n",
    "print(user1.get_details())"
   ]
  },
  {
   "cell_type": "code",
   "execution_count": 20,
   "metadata": {},
   "outputs": [],
   "source": [
    "# at the moment when i try to get the details of user to\n",
    "# will throw AttributError because return method contain extra variable which has not defined in obj2\n",
    "# print(user2.get_details())"
   ]
  },
  {
   "cell_type": "code",
   "execution_count": 31,
   "metadata": {},
   "outputs": [
    {
     "name": "stdout",
     "output_type": "stream",
     "text": [
      "True\n"
     ]
    }
   ],
   "source": [
    "# for login\n",
    "result = user1.login('abc', 'abc@123')\n",
    "print(result)"
   ]
  },
  {
   "cell_type": "code",
   "execution_count": 7,
   "metadata": {},
   "outputs": [
    {
     "name": "stdout",
     "output_type": "stream",
     "text": [
      "abc\n",
      "pqr\n"
     ]
    }
   ],
   "source": [
    "# to access the value for user1\n",
    "print(user1.user_name)\n",
    "\n",
    "# to access the value for user2\n",
    "print(user2.user_name)"
   ]
  },
  {
   "cell_type": "code",
   "execution_count": 13,
   "metadata": {},
   "outputs": [
    {
     "name": "stdout",
     "output_type": "stream",
     "text": [
      "abc\n"
     ]
    }
   ],
   "source": [
    "# we don't need to use only __init__ method necessarily\n",
    "class User:\n",
    "    def signup(self, username, email, password):\n",
    "        self.user_name = username\n",
    "        self.email = email\n",
    "        self.password = password\n",
    "        \n",
    "user1 = User()\n",
    "\n",
    "# User.signup(user1, 'abc', 'abc@xyz.com', 'abc@123')\n",
    "user1.signup('abc', 'abc@xyz.com', 'abc@123')\n",
    "\n",
    "print(user1.user_name)"
   ]
  },
  {
   "cell_type": "code",
   "execution_count": null,
   "metadata": {},
   "outputs": [],
   "source": []
  }
 ],
 "metadata": {
  "kernelspec": {
   "display_name": "Python 3",
   "language": "python",
   "name": "python3"
  },
  "language_info": {
   "codemirror_mode": {
    "name": "ipython",
    "version": 3
   },
   "file_extension": ".py",
   "mimetype": "text/x-python",
   "name": "python",
   "nbconvert_exporter": "python",
   "pygments_lexer": "ipython3",
   "version": "3.7.6"
  }
 },
 "nbformat": 4,
 "nbformat_minor": 4
}
