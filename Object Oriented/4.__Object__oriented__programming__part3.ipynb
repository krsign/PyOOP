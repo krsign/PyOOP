{
 "cells": [
  {
   "cell_type": "code",
   "execution_count": null,
   "metadata": {},
   "outputs": [],
   "source": [
    "Course : 1 course can have multiple tutorials\n",
    "    \n",
    "    course_id\n",
    "    course_name\n",
    "    course_desc\n",
    "    author_name\n",
    "    \n",
    "Tutorials:\n",
    "    \n",
    "    tut_id\n",
    "    name\n",
    "    content\n",
    "    course\n",
    "    \n",
    "1. Find all the tutorial for course say 'Python'\n",
    "2. All the tutorial by author 'ABC'\n",
    "3. change the name of course with id 1 to Numpy\n",
    "\n",
    "X. For every author:\n",
    "     \n",
    "    author name\n",
    "    profession\n",
    "    total exp\n",
    "    tech"
   ]
  },
  {
   "cell_type": "code",
   "execution_count": 10,
   "metadata": {},
   "outputs": [],
   "source": [
    "class Course:\n",
    "    def __init__(self, c_id, c_name, c_desc, author):\n",
    "        self.c_id = c_id\n",
    "        self.c_name = c_name\n",
    "        self.c_desc = c_desc\n",
    "        self.author = author\n",
    "\n",
    "class Tutorial:\n",
    "    tutorials = []\n",
    "    def __init__(self, t_id, t_name, t_content, course):\n",
    "        self.t_id = t_id\n",
    "        self.t_name = t_name\n",
    "        self.t_content = t_content\n",
    "        self.course = course\n",
    "    #   dynamically adding tutorials\n",
    "        Tutorial.tutorials.append(self)\n",
    "    def get_details(self):\n",
    "        return self.t_id, self.t_name, self.t_content\n",
    "\n",
    "class Author:\n",
    "    def __init__(self, name, prof, exp, tech):\n",
    "        self.name = name\n",
    "        self.prof = prof\n",
    "        self.exp = exp\n",
    "        self.tech = tech\n"
   ]
  },
  {
   "cell_type": "code",
   "execution_count": 11,
   "metadata": {},
   "outputs": [],
   "source": [
    "author1 = Author('ABC', 'xyz', 5, ['c', 'c++', 'python'])\n",
    "author2 = Author('ABD', 'xya', 7, ['c', 'python'])\n",
    "author3 = Author('ABE', 'xyb', 5, ['python'])\n",
    "author4 = Author('ABF', 'xyc', 10, ['python'])"
   ]
  },
  {
   "cell_type": "code",
   "execution_count": 12,
   "metadata": {},
   "outputs": [],
   "source": [
    "course1 = Course(101, 'Python', 'Python Beg to Advanced',author1)\n",
    "course2 = Course(102, 'Django', 'Django Beg to Advanced',author4)"
   ]
  },
  {
   "cell_type": "code",
   "execution_count": 13,
   "metadata": {},
   "outputs": [],
   "source": [
    "tut1 = Tutorial(1, 'Python Basics', 'Operators, Conditional satetements', course1)\n",
    "tut2 = Tutorial(2, 'Python loops', 'For while loops', course1)\n",
    "tut3 = Tutorial(3, 'Python lists ', 'Append, Extend, Insert', course1)\n",
    "\n",
    "tut4 = Tutorial(4, 'Django Models', 'Models, Migrations, Model Field', course2)\n",
    "tut5 = Tutorial(5, 'Django Views', 'class Based and Function based views', course2)"
   ]
  },
  {
   "cell_type": "code",
   "execution_count": 14,
   "metadata": {},
   "outputs": [
    {
     "name": "stdout",
     "output_type": "stream",
     "text": [
      "[<__main__.Tutorial object at 0x1059b8b50>, <__main__.Tutorial object at 0x1059b84d0>, <__main__.Tutorial object at 0x1025b4090>, <__main__.Tutorial object at 0x1059b8590>, <__main__.Tutorial object at 0x1059b8f90>]\n"
     ]
    }
   ],
   "source": [
    "print(Tutorial.tutorials)"
   ]
  },
  {
   "cell_type": "code",
   "execution_count": 20,
   "metadata": {},
   "outputs": [
    {
     "name": "stdout",
     "output_type": "stream",
     "text": [
      "(1, 'Python Basics', 'Operators, Conditional satetements')\n",
      "(2, 'Python loops', 'For while loops')\n",
      "(3, 'Python lists ', 'Append, Extend, Insert')\n"
     ]
    }
   ],
   "source": [
    "for tutorial in Tutorial.tutorials:\n",
    "    if tutorial.course.c_name == 'Python':\n",
    "        print(tutorial.get_details())\n",
    "        \n",
    "# for Django\n",
    "# for tutorial in Tutorial.tutorials:\n",
    "#     if tutorial.course.c_name == 'Django':\n",
    "#         print(tutorial.get_details())"
   ]
  },
  {
   "cell_type": "code",
   "execution_count": 21,
   "metadata": {},
   "outputs": [
    {
     "name": "stdout",
     "output_type": "stream",
     "text": [
      "(1, 'Python Basics', 'Operators, Conditional satetements')\n",
      "(2, 'Python loops', 'For while loops')\n",
      "(3, 'Python lists ', 'Append, Extend, Insert')\n"
     ]
    }
   ],
   "source": [
    "for tutorial in Tutorial.tutorials:\n",
    "    if tutorial.course.author.name == 'ABC':\n",
    "        print(tutorial.get_details())"
   ]
  },
  {
   "cell_type": "markdown",
   "metadata": {},
   "source": [
    "# class Variable and @classmethod"
   ]
  },
  {
   "cell_type": "code",
   "execution_count": 26,
   "metadata": {},
   "outputs": [],
   "source": [
    "class Course:\n",
    "    courses = []\n",
    "    # this will differenciate between class method and instance method\n",
    "    @classmethod\n",
    "    def check_course(cls, c_id):\n",
    "        for course in cls.courses:\n",
    "            if course.c_id == c_id:\n",
    "                return course\n",
    "        else:\n",
    "            return -1\n",
    "    @classmethod  \n",
    "    def add_course(cls, obj):\n",
    "        cls.courses.append(obj)\n",
    "        \n",
    "    def __init__(self, c_id, c_name, c_desc, author):\n",
    "        self.c_id = c_id\n",
    "        self.c_name = c_name\n",
    "        self.c_desc = c_desc\n",
    "        self.author = author\n",
    "        Course.add_course(self)\n",
    "\n",
    "class Tutorial:\n",
    "    tutorials = []\n",
    "    def __init__(self, t_id, t_name, t_content, course):\n",
    "        self.t_id = t_id\n",
    "        self.t_name = t_name\n",
    "        self.t_content = t_content\n",
    "        self.course = course\n",
    "    #   dynamically adding tutorials\n",
    "        Tutorial.tutorials.append(self)\n",
    "    def get_details(self):\n",
    "        return self.t_id, self.t_name, self.t_content\n",
    "\n",
    "class Author:\n",
    "    def __init__(self, name, prof, exp, tech):\n",
    "        self.name = name\n",
    "        self.prof = prof\n",
    "        self.exp = exp\n",
    "        self.tech = tech"
   ]
  },
  {
   "cell_type": "code",
   "execution_count": 27,
   "metadata": {},
   "outputs": [],
   "source": [
    "author1 = Author('ABC', 'xyz', 5, ['c', 'c++', 'python'])\n",
    "author2 = Author('ABD', 'xya', 7, ['c', 'python'])\n",
    "author3 = Author('ABE', 'xyb', 5, ['python'])\n",
    "author4 = Author('ABF', 'xyc', 10, ['python'])"
   ]
  },
  {
   "cell_type": "code",
   "execution_count": 28,
   "metadata": {},
   "outputs": [],
   "source": [
    "course1 = Course(101, 'Python', 'Python Beg to Advanced',author1)\n",
    "course2 = Course(102, 'Django', 'Django Beg to Advanced',author4)"
   ]
  },
  {
   "cell_type": "code",
   "execution_count": 29,
   "metadata": {},
   "outputs": [],
   "source": [
    "tut1 = Tutorial(1, 'Python Basics', 'Operators, Conditional satetements', course1)\n",
    "tut2 = Tutorial(2, 'Python loops', 'For while loops', course1)\n",
    "tut3 = Tutorial(3, 'Python lists ', 'Append, Extend, Insert', course1)\n",
    "\n",
    "tut4 = Tutorial(4, 'Django Models', 'Models, Migrations, Model Field', course2)\n",
    "tut5 = Tutorial(5, 'Django Views', 'class Based and Function based views', course2)"
   ]
  },
  {
   "cell_type": "code",
   "execution_count": 30,
   "metadata": {},
   "outputs": [
    {
     "name": "stdout",
     "output_type": "stream",
     "text": [
      "<__main__.Course object at 0x10c7010d0>\n"
     ]
    }
   ],
   "source": [
    "print(Course.check_course(101))"
   ]
  }
 ],
 "metadata": {
  "kernelspec": {
   "display_name": "Python 3",
   "language": "python",
   "name": "python3"
  },
  "language_info": {
   "codemirror_mode": {
    "name": "ipython",
    "version": 3
   },
   "file_extension": ".py",
   "mimetype": "text/x-python",
   "name": "python",
   "nbconvert_exporter": "python",
   "pygments_lexer": "ipython3",
   "version": "3.7.6"
  }
 },
 "nbformat": 4,
 "nbformat_minor": 4
}
