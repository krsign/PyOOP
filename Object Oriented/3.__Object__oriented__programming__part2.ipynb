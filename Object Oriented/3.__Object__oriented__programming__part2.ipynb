{
 "cells": [
  {
   "cell_type": "code",
   "execution_count": 26,
   "metadata": {},
   "outputs": [],
   "source": [
    "class Student:\n",
    "    def __init__(self, roll_no, marks, std):\n",
    "        self.roll_no = roll_no\n",
    "        self.marks = marks\n",
    "        self.std = std\n",
    "        \n",
    "    def cal_result(self):\n",
    "        self.per = (sum(self.marks.values()) / 500 ) * 100\n",
    "        if self.per < 40:\n",
    "            self.result = 'Fail'\n",
    "        else:\n",
    "            self.result = 'Pass'\n",
    "    \n",
    "    def get_details(self):\n",
    "        return '{} {} {}'.format(self.roll_no, self.per, self.result)\n",
    "    \n",
    "class Std:\n",
    "    def __init__(self, name, class_teacher_name):\n",
    "        self.name = name\n",
    "        self.class_teacher_name = class_teacher_name\n",
    "        \n",
    "std1 = Std('1', 'ABC')\n",
    "std2 = Std('2', 'PQR')\n",
    "std3 = Std('3', 'RST')\n",
    "    \n",
    "stud1 = Student(1, {'eng':75, 'phy': 56, 'chem': 80, 'bio': 55, 'coding': 80}, std1)\n",
    "stud2 = Student(2, {'eng':75, 'phy': 60, 'chem': 88, 'bio': 57, 'coding': 80}, std2)\n",
    "stud3 = Student(3, {'eng':30, 'phy': 40, 'chem': 39, 'bio': 38, 'coding': 40}, std2)\n",
    "stud4 = Student(4, {'eng':75, 'phy': 56, 'chem': 87, 'bio': 90, 'coding': 80}, std1)\n",
    "stud5 = Student(5, {'eng':20, 'phy': 56, 'chem': 46, 'bio': 30, 'coding': 35}, std3)"
   ]
  },
  {
   "cell_type": "code",
   "execution_count": 7,
   "metadata": {},
   "outputs": [],
   "source": [
    "students = [stud1, stud2, stud3, stud4, stud5]\n",
    "for student in students:\n",
    "    student.cal_result()"
   ]
  },
  {
   "cell_type": "code",
   "execution_count": 8,
   "metadata": {},
   "outputs": [
    {
     "name": "stdout",
     "output_type": "stream",
     "text": [
      "3 37.4 Fail\n",
      "5 37.4 Fail\n"
     ]
    }
   ],
   "source": [
    "# Failed student\n",
    "students = [stud1, stud2, stud3, stud4, stud5]\n",
    "for student in students:\n",
    "    if student.result == 'Fail':\n",
    "        print(student.get_details())"
   ]
  },
  {
   "cell_type": "code",
   "execution_count": 27,
   "metadata": {},
   "outputs": [
    {
     "name": "stdout",
     "output_type": "stream",
     "text": [
      "1 69.19999999999999 Pass\n",
      "2 72.0 Pass\n",
      "4 77.60000000000001 Pass\n"
     ]
    }
   ],
   "source": [
    "# Top 3 Students\n",
    "# key will always take userdefined functions or lambda\n",
    "# def sort_per(student):\n",
    "#     return student.per\n",
    "l1 = sorted(students, key = lambda student : student.per)\n",
    "l2 = l1[-3:]\n",
    "\n",
    "for student in l2:\n",
    "    print(student.get_details())"
   ]
  },
  {
   "cell_type": "code",
   "execution_count": 32,
   "metadata": {},
   "outputs": [
    {
     "name": "stdout",
     "output_type": "stream",
     "text": [
      "{'roll_no': 1, 'marks': {'eng': 75, 'phy': 56, 'chem': 80, 'bio': 55, 'coding': 80}, 'std': <__main__.Std object at 0x10f5067d0>}\n",
      "\n",
      "\n",
      "<__main__.Std object at 0x10f5067d0>\n",
      "\n",
      "\n",
      "ABC\n"
     ]
    }
   ],
   "source": [
    "# __dict__ will show values for particular objects\n",
    "print(stud1.__dict__)\n",
    "print('\\n')\n",
    "\n",
    "# to access standard object\n",
    "print(stud1.std)\n",
    "print('\\n')\n",
    "\n",
    "# to access class_teacher_name from standard objects\n",
    "print(stud1.std.class_teacher_name)\n"
   ]
  },
  {
   "cell_type": "code",
   "execution_count": 33,
   "metadata": {},
   "outputs": [],
   "source": [
    "# how to do automatically"
   ]
  },
  {
   "cell_type": "code",
   "execution_count": null,
   "metadata": {},
   "outputs": [],
   "source": [
    "# class variable : it's a variable which is common across all instance\n",
    "\n",
    "# and for that variable there is a single copy across all instances"
   ]
  },
  {
   "cell_type": "code",
   "execution_count": 1,
   "metadata": {},
   "outputs": [
    {
     "name": "stdout",
     "output_type": "stream",
     "text": [
      "0\n"
     ]
    }
   ],
   "source": [
    "class Student:\n",
    "    # any variable inside class but outside method\n",
    "    student = []\n",
    "    count = 0\n",
    "    def __init__(self, roll_no, marks, std):\n",
    "        self.roll_no = roll_no\n",
    "        self.marks = marks\n",
    "        self.std = std\n",
    "     # accessing class variable\n",
    "        Student.count += 1\n",
    "     # accessing class variable and appending objects\n",
    "        Student.student.append(self)\n",
    "        \n",
    "        \n",
    "    def cal_result(self):\n",
    "        self.per = (sum(self.marks.values()) / 500 ) * 100\n",
    "        if self.per < 40:\n",
    "            self.result = 'Fail'\n",
    "        else:\n",
    "            self.result = 'Pass'\n",
    "    \n",
    "    def get_details(self):\n",
    "        return '{} {} {}'.format(self.roll_no, self.per, self.result)\n",
    "    \n",
    "class Std:\n",
    "    def __init__(self, name, class_teacher_name):\n",
    "        self.name = name\n",
    "        self.class_teacher_name = class_teacher_name\n",
    "        \n",
    "std1 = Std('1', 'ABC')\n",
    "std2 = Std('2', 'PQR')\n",
    "std3 = Std('3', 'RST')\n",
    "\n",
    "# before creating any objects ... when i try to count\n",
    "print(Student.count)\n",
    "\n",
    "# creating objects\n",
    "stud1 = Student(1, {'eng':75, 'phy': 56, 'chem': 80, 'bio': 55, 'coding': 80}, std1)\n",
    "stud2 = Student(2, {'eng':75, 'phy': 60, 'chem': 88, 'bio': 57, 'coding': 80}, std2)\n",
    "stud3 = Student(3, {'eng':30, 'phy': 40, 'chem': 39, 'bio': 38, 'coding': 40}, std2)\n",
    "stud4 = Student(4, {'eng':75, 'phy': 56, 'chem': 87, 'bio': 90, 'coding': 80}, std1)\n",
    "stud5 = Student(5, {'eng':20, 'phy': 56, 'chem': 46, 'bio': 30, 'coding': 35}, std3)"
   ]
  },
  {
   "cell_type": "code",
   "execution_count": 2,
   "metadata": {},
   "outputs": [
    {
     "name": "stdout",
     "output_type": "stream",
     "text": [
      "5\n"
     ]
    }
   ],
   "source": [
    "# initial values\n",
    "print(Student.count)"
   ]
  },
  {
   "cell_type": "code",
   "execution_count": 3,
   "metadata": {},
   "outputs": [],
   "source": [
    "students = [stud1, stud2, stud3, stud4, stud5]\n",
    "for student in students:\n",
    "    student.cal_result()"
   ]
  },
  {
   "cell_type": "code",
   "execution_count": 4,
   "metadata": {},
   "outputs": [
    {
     "name": "stdout",
     "output_type": "stream",
     "text": [
      "1 69.19999999999999 Pass\n",
      "2 72.0 Pass\n",
      "3 37.4 Fail\n",
      "4 77.60000000000001 Pass\n",
      "5 37.4 Fail\n"
     ]
    }
   ],
   "source": [
    "for student in Student.student:\n",
    "    print(student.get_details())"
   ]
  },
  {
   "cell_type": "code",
   "execution_count": 5,
   "metadata": {},
   "outputs": [
    {
     "name": "stdout",
     "output_type": "stream",
     "text": [
      "{'roll_no': 1, 'marks': {'eng': 75, 'phy': 56, 'chem': 80, 'bio': 55, 'coding': 80}, 'std': <__main__.Std object at 0x10907a990>, 'per': 69.19999999999999, 'result': 'Pass'}\n"
     ]
    }
   ],
   "source": [
    "print(stud1.__dict__)"
   ]
  },
  {
   "cell_type": "code",
   "execution_count": 9,
   "metadata": {},
   "outputs": [
    {
     "name": "stdout",
     "output_type": "stream",
     "text": [
      "500\n",
      "5\n"
     ]
    }
   ],
   "source": [
    "# effect will be limited to particular objects\n",
    "stud1.count = 500\n",
    "print(stud1.count)\n",
    "\n",
    "print(Student.count)"
   ]
  },
  {
   "cell_type": "code",
   "execution_count": 8,
   "metadata": {},
   "outputs": [
    {
     "name": "stdout",
     "output_type": "stream",
     "text": [
      "{'roll_no': 1, 'marks': {'eng': 75, 'phy': 56, 'chem': 80, 'bio': 55, 'coding': 80}, 'std': <__main__.Std object at 0x10907a990>, 'per': 69.19999999999999, 'result': 'Pass', 'count': 500}\n"
     ]
    }
   ],
   "source": [
    "print(stud1.__dict__)"
   ]
  },
  {
   "cell_type": "code",
   "execution_count": null,
   "metadata": {},
   "outputs": [],
   "source": []
  }
 ],
 "metadata": {
  "kernelspec": {
   "display_name": "Python 3",
   "language": "python",
   "name": "python3"
  },
  "language_info": {
   "codemirror_mode": {
    "name": "ipython",
    "version": 3
   },
   "file_extension": ".py",
   "mimetype": "text/x-python",
   "name": "python",
   "nbconvert_exporter": "python",
   "pygments_lexer": "ipython3",
   "version": "3.7.6"
  }
 },
 "nbformat": 4,
 "nbformat_minor": 4
}
