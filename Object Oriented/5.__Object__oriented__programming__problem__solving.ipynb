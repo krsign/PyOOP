{
 "cells": [
  {
   "cell_type": "markdown",
   "metadata": {},
   "source": [
    "Problem 1\n",
    "\n",
    "    In a normal supermarket, things are identified using Stock Keeping Units,. In our store, we’ll use individual letters of the alphabet (A, B, C, and so on). Our goods are priced individually. In addition, some items are multipriced: buy n of them, and they’ll cost you y Rs. For example, item ‘A’ might cost 50 Rs individually, but this week we have a special offer: buy three ‘A’s and they’ll cost you 120Rs. In fact this week’s prices are:\n",
    "\n",
    "    Item Unit Special Price Price \n",
    "    A 50 3 for 120 \n",
    "    B 50 2 for 45 \n",
    "    C 20 D 15\n",
    "\n",
    "    Our checkout accepts items in any order, so that if we scan a B, an A, and another B, we’ll recognize the two B’s and price them at 45 . Because the pricing changes frequently, we need to be able to pass in a set of pricing rules each time we start handling a checkout transaction."
   ]
  },
  {
   "cell_type": "code",
   "execution_count": null,
   "metadata": {},
   "outputs": [],
   "source": [
    "Product:\n",
    "    prod_name\n",
    "    unit_price\n",
    "Product(A, 50)\n",
    "Product(B, 30)\n",
    "\n",
    "\n",
    "Price:   "
   ]
  },
  {
   "cell_type": "code",
   "execution_count": null,
   "metadata": {},
   "outputs": [],
   "source": [
    "1. Customer : \n",
    "    add_cart\n",
    "        A, 5\n",
    "        B, 10\n",
    "        c, 2\n",
    "    \n",
    "    checkout() = what is the total bill\n",
    "\n",
    "2. Admin : \n",
    "    add_product :\n",
    "        name : A\n",
    "        unit_price :\n",
    "        stock : 100\n",
    "    \n",
    "    update_prodcut:\n",
    "    delete_product:\n",
    "        \n",
    "# 3. Billing Person:\n",
    "#     scan_product\n",
    "#     update_quantity\n",
    "    \n",
    "4. System:\n",
    "    cal_bill"
   ]
  },
  {
   "cell_type": "code",
   "execution_count": 9,
   "metadata": {},
   "outputs": [],
   "source": [
    "class Product:\n",
    "    products = []\n",
    "    @classmethod\n",
    "    def add_obj(cls,obj):\n",
    "        cls.products.append(obj)\n",
    "        \n",
    "    def __init__(self,p_id,p_name,unit_price,stock):\n",
    "        self.p_id = p_id\n",
    "        self.p_name = p_name\n",
    "        self.unit_price = unit_price\n",
    "        self.stock = stock\n",
    "        \n",
    "        # call to particular obj\n",
    "        Product.add_obj(self)\n",
    "        \n",
    "class Admin:\n",
    "    def __init__(self,name,username,email):\n",
    "        self.name = name\n",
    "        self.username = username\n",
    "        self.email = email\n",
    "        \n",
    "    def add_product(self,p_id,p_name,unit_price,stock):\n",
    "        # creating new product\n",
    "        prod = Product(p_id,p_name,unit_price,stock)\n",
    "        return prod\n",
    "    \n",
    "class Customer:\n",
    "    def __init__(self,name,phone):\n",
    "        self.name = name\n",
    "        self.phone = phone\n",
    "        self.cart = {}\n",
    "        \n",
    "    def add_to_cart(self,product,qty):\n",
    "        \n",
    "        if product not in self.cart:\n",
    "            self.cart.setdefault(product,qty)\n",
    "        else:\n",
    "            self.cart[product] += qty\n",
    "            \n",
    "    def view_cart(self): \n",
    "        return {key.p_name : value for key, value in self.cart.items()}"
   ]
  },
  {
   "cell_type": "code",
   "execution_count": 10,
   "metadata": {},
   "outputs": [
    {
     "name": "stdout",
     "output_type": "stream",
     "text": [
      "<__main__.Admin object at 0x10f3a2890>\n"
     ]
    }
   ],
   "source": [
    "admin = Admin('kr','krsign','nowimkr@gmail.com')\n",
    "print(admin)"
   ]
  },
  {
   "cell_type": "code",
   "execution_count": 11,
   "metadata": {},
   "outputs": [],
   "source": [
    "p1 = admin.add_product(1,'A',50,100)\n",
    "p2 = admin.add_product(2,'B',30,100)\n",
    "p3 = admin.add_product(3,'C',20,100)"
   ]
  },
  {
   "cell_type": "code",
   "execution_count": 12,
   "metadata": {},
   "outputs": [
    {
     "name": "stdout",
     "output_type": "stream",
     "text": [
      "[<__main__.Product object at 0x10f39f510>, <__main__.Product object at 0x10f39fb90>, <__main__.Product object at 0x10f39f610>]\n"
     ]
    }
   ],
   "source": [
    "print(Product.products)"
   ]
  },
  {
   "cell_type": "code",
   "execution_count": 13,
   "metadata": {},
   "outputs": [],
   "source": [
    "cust1 = Customer('AAA','9102945827')"
   ]
  },
  {
   "cell_type": "code",
   "execution_count": 14,
   "metadata": {},
   "outputs": [
    {
     "name": "stdout",
     "output_type": "stream",
     "text": [
      "{}\n"
     ]
    }
   ],
   "source": [
    "print(cust1.view_cart())"
   ]
  },
  {
   "cell_type": "code",
   "execution_count": 15,
   "metadata": {},
   "outputs": [],
   "source": [
    "cust1.add_to_cart(p1, 5)\n",
    "cust1.add_to_cart(p2, 10)\n",
    "cust1.add_to_cart(p3, 2)\n",
    "cust1.add_to_cart(p1, 10)"
   ]
  },
  {
   "cell_type": "code",
   "execution_count": 16,
   "metadata": {},
   "outputs": [
    {
     "name": "stdout",
     "output_type": "stream",
     "text": [
      "{'A': 15, 'B': 10, 'C': 2}\n"
     ]
    }
   ],
   "source": [
    "print(cust1.view_cart())"
   ]
  },
  {
   "cell_type": "code",
   "execution_count": null,
   "metadata": {},
   "outputs": [],
   "source": []
  }
 ],
 "metadata": {
  "kernelspec": {
   "display_name": "Python 3",
   "language": "python",
   "name": "python3"
  },
  "language_info": {
   "codemirror_mode": {
    "name": "ipython",
    "version": 3
   },
   "file_extension": ".py",
   "mimetype": "text/x-python",
   "name": "python",
   "nbconvert_exporter": "python",
   "pygments_lexer": "ipython3",
   "version": "3.7.6"
  }
 },
 "nbformat": 4,
 "nbformat_minor": 4
}
