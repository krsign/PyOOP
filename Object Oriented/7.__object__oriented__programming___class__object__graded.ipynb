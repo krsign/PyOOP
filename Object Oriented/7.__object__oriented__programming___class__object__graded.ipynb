{
 "cells": [
  {
   "cell_type": "markdown",
   "metadata": {},
   "source": [
    "\n",
    "    1. Create a Time class and initialize it with hours and minutes.\n",
    "\n",
    "    \n",
    "        1. Make a method addTime which should take two time object and add them. \n",
    "    \n",
    "             E.g.- (2 hour and 50 min)+(1 hr and 20 min) is (4 hr and 10 min)\n",
    "         \n",
    "        2. Make a method displayTime which should print the time.\n",
    "\n",
    "\n",
    "        Input: Time(2, 50), Time(1, 20)\n",
    "        Output: '4:10'"
   ]
  },
  {
   "cell_type": "code",
   "execution_count": null,
   "metadata": {},
   "outputs": [],
   "source": []
  },
  {
   "cell_type": "markdown",
   "metadata": {},
   "source": [
    "    2. Write a Python program to implement pow(x, n).\n",
    "\n",
    "        Input : 2,2\n",
    "\n",
    "        Output : 4"
   ]
  },
  {
   "cell_type": "code",
   "execution_count": null,
   "metadata": {},
   "outputs": [],
   "source": [
    "class Power:\n",
    "    \n",
    "    def __init__(self, x, n):\n",
    "        self.x = x\n",
    "        self.n = n\n",
    "        \n",
    "    def power(self):\n",
    "        power = self.x ** self.n\n",
    "        return power\n",
    "\n",
    "x = int(input('Enter number: '))\n",
    "n = int(input('Enter power : '))\n",
    "\n",
    "p = Power(x,n)\n",
    "\n",
    "print('Power Value :', p.power())"
   ]
  },
  {
   "cell_type": "markdown",
   "metadata": {},
   "source": [
    "    3. write a python program to reverse a given string\n",
    "\n",
    "        Input : 'Edyoda'\n",
    "\n",
    "        Output : 'adoydE'"
   ]
  },
  {
   "cell_type": "code",
   "execution_count": 2,
   "metadata": {},
   "outputs": [
    {
     "name": "stdout",
     "output_type": "stream",
     "text": [
      "string : Edyoda\n",
      "reverse: adoydE\n"
     ]
    }
   ],
   "source": [
    "class Rev:\n",
    "    def __init__(self, s):\n",
    "        self.s = s\n",
    "    \n",
    "    def rev(self):\n",
    "        length = len(self.s)\n",
    "        rev_string = self.s[(length-1)::-1]\n",
    "        return rev_string\n",
    "         \n",
    "string = str(input('string : '))\n",
    "\n",
    "r = Rev(string)\n",
    "print('reverse:', r.rev())"
   ]
  },
  {
   "cell_type": "markdown",
   "metadata": {},
   "source": [
    "    4. Write a Python program to find validity of a string of parentheses, '(', ')', '{', '}', '[' and '].\n",
    "       These brackets must be close in the correct order,\n",
    "\n",
    "        For example \"()\" and \"()[]{}\" are valid but \"[)\", \"({[)]\" and \"{{{\" are invalid.\n",
    "\n",
    "        Input : \"{[}(()\"\n",
    "\n",
    "        Output : False"
   ]
  },
  {
   "cell_type": "code",
   "execution_count": 28,
   "metadata": {},
   "outputs": [
    {
     "name": "stdout",
     "output_type": "stream",
     "text": [
      "False\n"
     ]
    }
   ],
   "source": [
    "class Stack:\n",
    "    def __init__(self):\n",
    "        self.items = []\n",
    "    \n",
    "    def is_empty(self):\n",
    "        return self.items == []\n",
    "    \n",
    "    def push(self,item):\n",
    "        self.items.append(item)\n",
    "        \n",
    "    def pop(self):\n",
    "        return self.items.pop()\n",
    "    \n",
    "    def peek(self):\n",
    "        return self.items[len(self.items) - 1]\n",
    "    \n",
    "    def size(self):\n",
    "        return len(self.items)\n",
    "    \n",
    "#-----------------------------------------------------\n",
    "    \n",
    "def parentheses(paren):\n",
    "    s = Stack()\n",
    "    balanced = True\n",
    "    index = 0\n",
    "    \n",
    "    while index < len(paren) and balanced:\n",
    "        \n",
    "        symbols = paren[index]\n",
    "        \n",
    "        if symbols in '([{':\n",
    "            s.push(symbols)\n",
    "        else:\n",
    "            if s.is_empty():\n",
    "                balanced = False\n",
    "            else:\n",
    "                top = s.pop()\n",
    "                if not matches(top,symbols):\n",
    "                    balanced = False\n",
    "        index = index + 1\n",
    "        \n",
    "    if balanced and s.is_empty():\n",
    "        return True\n",
    "    else:\n",
    "        return False\n",
    "    \n",
    "def matches(open,close):\n",
    "    opens = '([{'\n",
    "    closes = ')]}'\n",
    "    return opens.index(open) == closes.index(close)\n",
    "\n",
    "#------------------------------------------------------\n",
    "        \n",
    "print(parentheses('{[}(()'))"
   ]
  },
  {
   "cell_type": "markdown",
   "metadata": {},
   "source": [
    "    5. Write a Python program to convert an integer to a roman numeral.\n",
    "\n",
    "        Input : 4000\n",
    "\n",
    "        Output : \"MMMM\""
   ]
  },
  {
   "cell_type": "code",
   "execution_count": 7,
   "metadata": {},
   "outputs": [
    {
     "name": "stdout",
     "output_type": "stream",
     "text": [
      "Roman : MMMM\n"
     ]
    }
   ],
   "source": [
    "class IntegerToRoman:\n",
    "    def __init__(self, number):\n",
    "        self.number = number\n",
    "        self.roman = []\n",
    "        \n",
    "    def int_to_roman(self):\n",
    "        \n",
    "        num_and_roman = tuple(zip((1000,900,500,400,100,90,50,40,10,9,5,4,1),\n",
    "        ('M','CM','D','CD','C','XC','L','XL','X','IX','V','IV','I')))\n",
    "        \n",
    "        for integer, numeral in num_and_roman:\n",
    "            count = self.number // integer\n",
    "            self.roman.append(numeral * count)\n",
    "            self.number = self.number - (integer * count)\n",
    "            \n",
    "        return ''.join(self.roman)\n",
    "    \n",
    "roman1 = IntegerToRoman(4000)\n",
    "print('Roman :', roman1.int_to_roman())"
   ]
  },
  {
   "cell_type": "markdown",
   "metadata": {},
   "source": [
    "    6. Write a Python program to get all possible unique subsets from a set of distinct integers.\n",
    "\n",
    "        Input: [0,1]\n",
    "\n",
    "        Output: [[], [1], [0], [0, 1]"
   ]
  },
  {
   "cell_type": "markdown",
   "metadata": {},
   "source": [
    "    7. Write a Python program to find a pair of elements (indices of the two numbers) \n",
    "    from a given array whose sum equals a specific target number.\n",
    "\n",
    "        Input: (5,7,6,8,2,1),10\n",
    "\n",
    "        Output: (3,4)\n"
   ]
  },
  {
   "cell_type": "markdown",
   "metadata": {},
   "source": [
    "    8. Write a Python program to find the three elements that sum to zero from a set (array) of n real numbers.\n",
    "    \n",
    "        Input: [-25, -10, -7, -3, 2, 4, 8, 10]\n",
    "\n",
    "        Output: [[-10, 2, 8], [-7, -3, 10]]"
   ]
  }
 ],
 "metadata": {
  "kernelspec": {
   "display_name": "Python 3",
   "language": "python",
   "name": "python3"
  },
  "language_info": {
   "codemirror_mode": {
    "name": "ipython",
    "version": 3
   },
   "file_extension": ".py",
   "mimetype": "text/x-python",
   "name": "python",
   "nbconvert_exporter": "python",
   "pygments_lexer": "ipython3",
   "version": "3.7.6"
  }
 },
 "nbformat": 4,
 "nbformat_minor": 4
}
